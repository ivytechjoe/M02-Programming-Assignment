{
 "cells": [
  {
   "cell_type": "code",
   "execution_count": 8,
   "id": "b72aa51c",
   "metadata": {},
   "outputs": [
    {
     "name": "stdout",
     "output_type": "stream",
     "text": [
      "Guess the number (between 1 and 10): 5\n",
      "Too high\n"
     ]
    }
   ],
   "source": [
    "# Assign a random number between 1 and 10 to the variable 'secret'\n",
    "import random\n",
    "secret = random.randint(1, 10)\n",
    "\n",
    "# Assign another random number between 1 and 10 to the variable 'guess'\n",
    "guess = int(input(\"Guess the number (between 1 and 10): \"))\n",
    "\n",
    "# Compare 'guess' with 'secret' and print the appropriate message\n",
    "if guess < secret:\n",
    "    print('Too low')\n",
    "elif guess > secret:\n",
    "    print('Too high')\n",
    "else:\n",
    "    print('Just right')\n",
    "    \n",
    "    "
   ]
  },
  {
   "cell_type": "code",
   "execution_count": 11,
   "id": "3a04cc90",
   "metadata": {},
   "outputs": [
    {
     "name": "stdout",
     "output_type": "stream",
     "text": [
      "cherry matches your choices.\n",
      "pea matches your choices.\n",
      "watermelon does not match your choices.\n",
      "pumpkin does not match your choices.\n"
     ]
    }
   ],
   "source": [
    "# Assign values to the variables 'small' and 'green'\n",
    "small = True\n",
    "green = False\n",
    "\n",
    "# List of fruits and vegetables\n",
    "choices = ['cherry', 'pea', 'watermelon', 'pumpkin']\n",
    "\n",
    "# Check each item in the list\n",
    "for choice in choices:\n",
    "    if small and choice in ['cherry', 'pea']:\n",
    "        print(f\"{choice} matches your choices.\")\n",
    "    elif green and choice in ['pea', 'watermelon']:\n",
    "        print(f\"{choice} matches your choices.\")\n",
    "    else:\n",
    "        print(f\"{choice} does not match your choices.\")"
   ]
  },
  {
   "cell_type": "code",
   "execution_count": 20,
   "id": "377a465d",
   "metadata": {},
   "outputs": [
    {
     "name": "stdout",
     "output_type": "stream",
     "text": [
      "3\n",
      "2\n",
      "1\n",
      "0\n"
     ]
    }
   ],
   "source": [
    "# My group of numbers for the loop\n",
    "my_list = [3, 2, 1, 0]\n",
    "# The for loop to iterate the numbers\n",
    "for i in my_list:\n",
    "    print(i)"
   ]
  },
  {
   "cell_type": "code",
   "execution_count": 39,
   "id": "7cf33b1c",
   "metadata": {},
   "outputs": [],
   "source": [
    "# Assign values to variables\n",
    "guess_me = 7\n",
    "number = 1\n",
    "\n",
    "# While loop to compare number with guess_me\n",
    "while number <= guess_me:\n",
    "    if number < guess_me:\n",
    "        print('too low')\n",
    "    elif number == guess_me:\n",
    "        print('found it!')\n",
    "        break  # Exit the loop when the condition is met\n",
    "    else:\n",
    "        print('oops')\n",
    "        break  # Exit the loop when the condition is met\n",
    "\n",
    "    # Increment number\n",
    "    number += 1"
   ]
  },
  {
   "cell_type": "code",
   "execution_count": 37,
   "id": "dac95bcb",
   "metadata": {},
   "outputs": [
    {
     "name": "stdout",
     "output_type": "stream",
     "text": [
      "too low\n",
      "too low\n",
      "too low\n",
      "too low\n",
      "too low\n",
      "found it!\n"
     ]
    }
   ],
   "source": [
    "# Assign values to variables\n",
    "guess_me = 5\n",
    "\n",
    "# Use a for loop to iterate over range(10)\n",
    "for number in range(10):\n",
    "    if number < guess_me:\n",
    "        print('too low')\n",
    "    elif number == guess_me:\n",
    "        print('found it!')\n",
    "        break  # Exit the loop when the condition is met\n",
    "    else:\n",
    "        print('oops')\n",
    "        break  # Exit the loop when the condition is met"
   ]
  }
 ],
 "metadata": {
  "kernelspec": {
   "display_name": "Python 3 (ipykernel)",
   "language": "python",
   "name": "python3"
  },
  "language_info": {
   "codemirror_mode": {
    "name": "ipython",
    "version": 3
   },
   "file_extension": ".py",
   "mimetype": "text/x-python",
   "name": "python",
   "nbconvert_exporter": "python",
   "pygments_lexer": "ipython3",
   "version": "3.11.5"
  }
 },
 "nbformat": 4,
 "nbformat_minor": 5
}
